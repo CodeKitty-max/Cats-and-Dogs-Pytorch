{
 "cells": [
  {
   "cell_type": "code",
   "execution_count": null,
   "metadata": {},
   "outputs": [],
   "source": [
    "import torch\n",
    "import torch.nn as nn\n",
    "import torch.optim as optim\n",
    "from torchvision import models\n",
    "from tempfile import TemporaryDirectory\n",
    "import os\n",
    "from tqdm.notebook import tqdm\n",
    "import time\n",
    "\n",
    "device = torch.device(\"cuda:0\" if torch.cuda.is_available() else \"cpu\")\n"
   ]
  },
  {
   "cell_type": "code",
   "execution_count": null,
   "metadata": {},
   "outputs": [],
   "source": [
    "#Resnet implemented\n",
    "vision_model = models.resnet18(weights = \"IMAGENET1K_V1\")\n",
    "num_features = vision_model.fc.in_features\n",
    "vision_model.fc = nn.Linear(num_features, 2)\n",
    "\n",
    "vision_model = vision_model.to(device)\n",
    "\n"
   ]
  },
  {
   "cell_type": "code",
   "execution_count": null,
   "metadata": {},
   "outputs": [],
   "source": [
    "#criterion and optimizer implemented\n",
    "criterion = nn.CrossEntropyLoss()\n",
    "optimizer = optim.SGD(vision_model.parameters(), lr=0.001, momentum=0.9)"
   ]
  },
  {
   "cell_type": "code",
   "execution_count": null,
   "metadata": {},
   "outputs": [],
   "source": [
    "train_dataloader =  torch.load(\"train_dataloader.pth\")\n",
    "validation_dataloader = torch.load(\"val_dataloader.pth\")\n",
    "\n",
    "\n",
    "#dataset sizes\n",
    "train_loader_size = len(train_dataloader.dataset)\n",
    "val_loader_size = len(validation_dataloader.dataset)"
   ]
  },
  {
   "cell_type": "code",
   "execution_count": null,
   "metadata": {},
   "outputs": [],
   "source": [
    "print(train_loader_size)\n",
    "print(val_loader_size)"
   ]
  },
  {
   "cell_type": "code",
   "execution_count": null,
   "metadata": {},
   "outputs": [],
   "source": [
    "train_losses, val_losses = [], []\n",
    "train_acc, val_acc= 0, 0\n",
    "\n",
    "def ModelTraining(model, criterion, optimizer, num_epochs = 5):\n",
    "    start = time.time()\n",
    "    with TemporaryDirectory() as tempdir:\n",
    "        best_model_params_path = os.path.join(tempdir, \"best_model_params.pt\")\n",
    "        torch.save(model.state_dict(), best_model_params_path)\n",
    "        best_acc = 0.0\n",
    "\n",
    "    for epoch in range(num_epochs):\n",
    "        #train mode\n",
    "        model.train()\n",
    "        running_loss = 0.0\n",
    "        running_correct = 0\n",
    "\n",
    "        for inputs, labels in tqdm(train_dataloader, desc=\"Training loop\"):\n",
    "            inputs = inputs.to(device)\n",
    "            labels = labels.to(device)\n",
    "\n",
    "            #zero grad the optimizer\n",
    "            optimizer.zero_grad()\n",
    "            outputs = model(inputs)\n",
    "            _, preds = torch.max(outputs, 1)\n",
    "            loss = criterion(outputs, labels)\n",
    "\n",
    "            #Backpropagation\n",
    "            loss.backward()\n",
    "            optimizer.step()\n",
    "\n",
    "            running_loss += loss.item() * inputs.size(0)\n",
    "            running_correct += torch.sum(preds == labels.data)\n",
    "\n",
    "        train_loss = running_loss/len(train_dataloader.dataset)\n",
    "        train_acc = running_correct.double()/train_loader_size\n",
    "        #Appending loss and accuracy\n",
    "        train_losses.append(train_loss)\n",
    " \n",
    "        #validation phase\n",
    "        model.eval()\n",
    "        running_loss = 0.0\n",
    "        running_correct = 0\n",
    "        with torch.no_grad():\n",
    "            for inputs, labels in tqdm(validation_dataloader, desc = \"Validation loop\"):\n",
    "                inputs = inputs.to(device)\n",
    "                labels = labels.to(device)\n",
    "                outputs = model(inputs)\n",
    "                _, preds = torch.max(outputs, 1)\n",
    "                loss = criterion(outputs, labels)\n",
    "\n",
    "                running_loss += loss.item() * inputs.size(0)\n",
    "                running_correct+= torch.sum(preds == labels.data)      \n",
    "    \n",
    "        val_loss = running_loss/len(validation_dataloader.dataset)\n",
    "        val_acc = running_correct.double()/val_loader_size\n",
    "\n",
    "        val_losses.append(val_loss)\n",
    "   \n",
    "        \n",
    "        #print epoch stats\n",
    "        print(f\"Epoch {epoch + 1}/{num_epochs} - Train loss: {train_losses}, Val loss: {val_losses}, Train Acc: {train_acc:.4f}, Val Acc: {val_acc:.4f}\")\n",
    "\n",
    "        if val_acc > best_acc:\n",
    "            best_acc = val_acc\n",
    "            torch.save(model.state_dict(), best_model_params_path)\n",
    "\n",
    "    time_elapsed = time.time() - start\n",
    "    print(f'Training complete in {time_elapsed//60:.0f}m {time_elapsed%60:.0f}s')\n",
    "    print(f'Best val acc: {best_acc:.4f}')\n",
    "\n",
    "    model.load_state_dict(torch.load(best_model_params_path))\n",
    "    return model\n",
    "\n",
    "\n",
    "\n",
    "\n",
    "\n"
   ]
  },
  {
   "cell_type": "code",
   "execution_count": null,
   "metadata": {},
   "outputs": [],
   "source": [
    "ModelTraining(vision_model, criterion=criterion, optimizer=optimizer, num_epochs = 5)"
   ]
  },
  {
   "cell_type": "code",
   "execution_count": null,
   "metadata": {},
   "outputs": [],
   "source": []
  }
 ],
 "metadata": {
  "kernelspec": {
   "display_name": "Python 3",
   "language": "python",
   "name": "python3"
  },
  "language_info": {
   "codemirror_mode": {
    "name": "ipython",
    "version": 3
   },
   "file_extension": ".py",
   "mimetype": "text/x-python",
   "name": "python",
   "nbconvert_exporter": "python",
   "pygments_lexer": "ipython3",
   "version": "3.10.12"
  }
 },
 "nbformat": 4,
 "nbformat_minor": 2
}
